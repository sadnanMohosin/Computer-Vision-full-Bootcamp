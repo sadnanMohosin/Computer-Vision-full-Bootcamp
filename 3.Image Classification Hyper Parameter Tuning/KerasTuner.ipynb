{
  "cells": [
    {
      "cell_type": "code",
      "execution_count": 4,
      "metadata": {
        "id": "DNLb-BIk0RG5"
      },
      "outputs": [
        {
          "name": "stdout",
          "output_type": "stream",
          "text": [
            "Collecting tensorflow\n",
            "  Using cached tensorflow-2.11.0-cp310-cp310-win_amd64.whl (1.9 kB)\n",
            "Collecting tensorflow-intel==2.11.0\n",
            "  Using cached tensorflow_intel-2.11.0-cp310-cp310-win_amd64.whl (266.3 MB)\n",
            "Requirement already satisfied: numpy>=1.20 in c:\\users\\user\\appdata\\local\\packages\\pythonsoftwarefoundation.python.3.10_qbz5n2kfra8p0\\localcache\\local-packages\\python310\\site-packages (from tensorflow-intel==2.11.0->tensorflow) (1.22.4)\n",
            "Collecting keras<2.12,>=2.11.0\n",
            "  Using cached keras-2.11.0-py2.py3-none-any.whl (1.7 MB)\n",
            "Collecting tensorflow-estimator<2.12,>=2.11.0\n",
            "  Using cached tensorflow_estimator-2.11.0-py2.py3-none-any.whl (439 kB)\n",
            "Collecting termcolor>=1.1.0\n",
            "  Using cached termcolor-2.1.1-py3-none-any.whl (6.2 kB)\n",
            "Collecting h5py>=2.9.0\n",
            "  Using cached h5py-3.7.0-cp310-cp310-win_amd64.whl (2.6 MB)\n",
            "Collecting grpcio<2.0,>=1.24.3\n",
            "  Using cached grpcio-1.51.1-cp310-cp310-win_amd64.whl (3.7 MB)\n",
            "Collecting gast<=0.4.0,>=0.2.1\n",
            "  Using cached gast-0.4.0-py3-none-any.whl (9.8 kB)\n",
            "Collecting tensorflow-io-gcs-filesystem>=0.23.1\n",
            "  Using cached tensorflow_io_gcs_filesystem-0.28.0-cp310-cp310-win_amd64.whl (1.5 MB)\n",
            "Collecting libclang>=13.0.0\n",
            "  Using cached libclang-14.0.6-py2.py3-none-win_amd64.whl (14.2 MB)\n",
            "Requirement already satisfied: setuptools in c:\\program files\\windowsapps\\pythonsoftwarefoundation.python.3.10_3.10.2288.0_x64__qbz5n2kfra8p0\\lib\\site-packages (from tensorflow-intel==2.11.0->tensorflow) (63.2.0)\n",
            "Requirement already satisfied: packaging in c:\\users\\user\\appdata\\local\\packages\\pythonsoftwarefoundation.python.3.10_qbz5n2kfra8p0\\localcache\\local-packages\\python310\\site-packages (from tensorflow-intel==2.11.0->tensorflow) (21.3)\n",
            "Requirement already satisfied: six>=1.12.0 in c:\\users\\user\\appdata\\local\\packages\\pythonsoftwarefoundation.python.3.10_qbz5n2kfra8p0\\localcache\\local-packages\\python310\\site-packages (from tensorflow-intel==2.11.0->tensorflow) (1.16.0)\n",
            "Collecting flatbuffers>=2.0\n",
            "  Using cached flatbuffers-22.11.23-py2.py3-none-any.whl (26 kB)\n",
            "Collecting absl-py>=1.0.0\n",
            "  Using cached absl_py-1.3.0-py3-none-any.whl (124 kB)\n",
            "Collecting typing-extensions>=3.6.6\n",
            "  Using cached typing_extensions-4.4.0-py3-none-any.whl (26 kB)\n",
            "Collecting google-pasta>=0.1.1\n",
            "  Using cached google_pasta-0.2.0-py3-none-any.whl (57 kB)\n",
            "Collecting wrapt>=1.11.0\n",
            "  Using cached wrapt-1.14.1-cp310-cp310-win_amd64.whl (35 kB)\n",
            "Collecting tensorboard<2.12,>=2.11\n",
            "  Using cached tensorboard-2.11.0-py3-none-any.whl (6.0 MB)\n",
            "Collecting opt-einsum>=2.3.2\n",
            "  Using cached opt_einsum-3.3.0-py3-none-any.whl (65 kB)\n",
            "Collecting astunparse>=1.6.0\n",
            "  Using cached astunparse-1.6.3-py2.py3-none-any.whl (12 kB)\n",
            "Collecting protobuf<3.20,>=3.9.2\n",
            "  Using cached protobuf-3.19.6-cp310-cp310-win_amd64.whl (895 kB)\n",
            "Collecting wheel<1.0,>=0.23.0\n",
            "  Using cached wheel-0.38.4-py3-none-any.whl (36 kB)\n",
            "Collecting tensorboard-data-server<0.7.0,>=0.6.0\n",
            "  Using cached tensorboard_data_server-0.6.1-py3-none-any.whl (2.4 kB)\n",
            "Collecting tensorboard-plugin-wit>=1.6.0\n",
            "  Using cached tensorboard_plugin_wit-1.8.1-py3-none-any.whl (781 kB)\n",
            "Collecting markdown>=2.6.8\n",
            "  Using cached Markdown-3.4.1-py3-none-any.whl (93 kB)\n",
            "Collecting requests<3,>=2.21.0\n",
            "  Using cached requests-2.28.1-py3-none-any.whl (62 kB)\n",
            "Collecting google-auth<3,>=1.6.3\n",
            "  Using cached google_auth-2.14.1-py2.py3-none-any.whl (175 kB)\n",
            "Collecting google-auth-oauthlib<0.5,>=0.4.1\n",
            "  Using cached google_auth_oauthlib-0.4.6-py2.py3-none-any.whl (18 kB)\n",
            "Collecting werkzeug>=1.0.1\n",
            "  Using cached Werkzeug-2.2.2-py3-none-any.whl (232 kB)\n",
            "Requirement already satisfied: pyparsing!=3.0.5,>=2.0.2 in c:\\users\\user\\appdata\\local\\packages\\pythonsoftwarefoundation.python.3.10_qbz5n2kfra8p0\\localcache\\local-packages\\python310\\site-packages (from packaging->tensorflow-intel==2.11.0->tensorflow) (3.0.9)\n",
            "Collecting rsa<5,>=3.1.4\n",
            "  Using cached rsa-4.9-py3-none-any.whl (34 kB)\n",
            "Collecting cachetools<6.0,>=2.0.0\n",
            "  Using cached cachetools-5.2.0-py3-none-any.whl (9.3 kB)\n",
            "Collecting pyasn1-modules>=0.2.1\n",
            "  Using cached pyasn1_modules-0.2.8-py2.py3-none-any.whl (155 kB)\n",
            "Collecting requests-oauthlib>=0.7.0\n",
            "  Using cached requests_oauthlib-1.3.1-py2.py3-none-any.whl (23 kB)\n",
            "Collecting certifi>=2017.4.17\n",
            "  Using cached certifi-2022.9.24-py3-none-any.whl (161 kB)\n",
            "Collecting urllib3<1.27,>=1.21.1\n",
            "  Using cached urllib3-1.26.13-py2.py3-none-any.whl (140 kB)\n",
            "Collecting charset-normalizer<3,>=2\n",
            "  Using cached charset_normalizer-2.1.1-py3-none-any.whl (39 kB)\n",
            "Collecting idna<4,>=2.5\n",
            "  Using cached idna-3.4-py3-none-any.whl (61 kB)\n",
            "Collecting MarkupSafe>=2.1.1\n",
            "  Using cached MarkupSafe-2.1.1-cp310-cp310-win_amd64.whl (17 kB)\n",
            "Collecting pyasn1<0.5.0,>=0.4.6\n",
            "  Using cached pyasn1-0.4.8-py2.py3-none-any.whl (77 kB)\n",
            "Collecting oauthlib>=3.0.0\n",
            "  Using cached oauthlib-3.2.2-py3-none-any.whl (151 kB)\n",
            "Installing collected packages: tensorboard-plugin-wit, pyasn1, libclang, flatbuffers, wrapt, wheel, urllib3, typing-extensions, termcolor, tensorflow-io-gcs-filesystem, tensorflow-estimator, tensorboard-data-server, rsa, pyasn1-modules, protobuf, opt-einsum, oauthlib, MarkupSafe, markdown, keras, idna, h5py, grpcio, google-pasta, gast, charset-normalizer, certifi, cachetools, absl-py, werkzeug, requests, google-auth, astunparse, requests-oauthlib, google-auth-oauthlib, tensorboard, tensorflow-intel, tensorflow\n",
            "Successfully installed MarkupSafe-2.1.1 absl-py-1.3.0 astunparse-1.6.3 cachetools-5.2.0 certifi-2022.9.24 charset-normalizer-2.1.1 flatbuffers-22.11.23 gast-0.4.0 google-auth-2.14.1 google-auth-oauthlib-0.4.6 google-pasta-0.2.0 grpcio-1.51.1 h5py-3.7.0 idna-3.4 keras-2.11.0 libclang-14.0.6 markdown-3.4.1 oauthlib-3.2.2 opt-einsum-3.3.0 protobuf-3.19.6 pyasn1-0.4.8 pyasn1-modules-0.2.8 requests-2.28.1 requests-oauthlib-1.3.1 rsa-4.9 tensorboard-2.11.0 tensorboard-data-server-0.6.1 tensorboard-plugin-wit-1.8.1 tensorflow-2.11.0 tensorflow-estimator-2.11.0 tensorflow-intel-2.11.0 tensorflow-io-gcs-filesystem-0.28.0 termcolor-2.1.1 typing-extensions-4.4.0 urllib3-1.26.13 werkzeug-2.2.2 wheel-0.38.4 wrapt-1.14.1\n",
            "Note: you may need to restart the kernel to use updated packages.\n"
          ]
        },
        {
          "name": "stderr",
          "output_type": "stream",
          "text": [
            "WARNING: There was an error checking the latest version of pip.\n"
          ]
        }
      ],
      "source": [
        "#importing necessary libraries\n",
        "%pip install tensorflow\n",
        "import pandas as pd\n",
        "import numpy as np\n",
        "import matplotlib.pyplot as plt\n",
        "import seaborn as sns\n",
        "import tensorflow\n",
        "from tensorflow.keras.models import Sequential\n",
        "from tensorflow.keras.layers import Dense\n",
        "from tensorflow.keras.layers import Dropout\n",
        "from tensorflow.keras.layers import Flatten\n",
        "from tensorflow.keras.datasets import fashion_mnist"
      ]
    },
    {
      "cell_type": "code",
      "execution_count": 2,
      "metadata": {
        "colab": {
          "base_uri": "https://localhost:8080/"
        },
        "id": "m7F-_tN-0huR",
        "outputId": "c8e07b74-b645-4a45-d20e-81f0254acf2d"
      },
      "outputs": [
        {
          "name": "stdout",
          "output_type": "stream",
          "text": [
            "2.9.2\n"
          ]
        }
      ],
      "source": [
        "# Pre-requisite = python - 3.6 and tensorflow - 2.0 +\n",
        "\n",
        "print(tensorflow.__version__)"
      ]
    },
    {
      "cell_type": "code",
      "execution_count": 3,
      "metadata": {
        "colab": {
          "base_uri": "https://localhost:8080/"
        },
        "id": "VlN5mzyC0rim",
        "outputId": "5cfbc7ea-d2a3-4b10-d3e0-ce4a703cb778"
      },
      "outputs": [
        {
          "name": "stdout",
          "output_type": "stream",
          "text": [
            "Downloading data from https://storage.googleapis.com/tensorflow/tf-keras-datasets/train-labels-idx1-ubyte.gz\n",
            "29515/29515 [==============================] - 0s 0us/step\n",
            "Downloading data from https://storage.googleapis.com/tensorflow/tf-keras-datasets/train-images-idx3-ubyte.gz\n",
            "26421880/26421880 [==============================] - 0s 0us/step\n",
            "Downloading data from https://storage.googleapis.com/tensorflow/tf-keras-datasets/t10k-labels-idx1-ubyte.gz\n",
            "5148/5148 [==============================] - 0s 0us/step\n",
            "Downloading data from https://storage.googleapis.com/tensorflow/tf-keras-datasets/t10k-images-idx3-ubyte.gz\n",
            "4422102/4422102 [==============================] - 0s 0us/step\n"
          ]
        }
      ],
      "source": [
        "# Loading the data\n",
        "\n",
        "(X_train,y_train),(X_test,y_test) = fashion_mnist.load_data()"
      ]
    },
    {
      "cell_type": "code",
      "execution_count": 4,
      "metadata": {
        "colab": {
          "base_uri": "https://localhost:8080/",
          "height": 286
        },
        "id": "qyp_lXte1PGj",
        "outputId": "fde579c2-ac47-4283-976c-ead6e0f204f2"
      },
      "outputs": [
        {
          "data": {
            "image/png": "[encoded data removed]",
            "text/plain": [
              "<Figure size 432x288 with 25 Axes>"
            ]
          },
          "metadata": {
            "needs_background": "light"
          },
          "output_type": "display_data"
        },
        {
          "data": {
            "text/plain": [
              "<Figure size 864x576 with 0 Axes>"
            ]
          },
          "metadata": {},
          "output_type": "display_data"
        }
      ],
      "source": [
        "# Visualizing the Dataset\n",
        "\n",
        "for i in range(25):\n",
        "    # define subplot\n",
        "    plt.subplot(5, 5, i+1)\n",
        "    # plot raw pixel data\n",
        "    plt.imshow(X_train[i], cmap=plt.get_cmap('gray'))\n",
        "\n",
        "# show the figure\n",
        "plt.figure(figsize=(12,8))\n",
        "plt.show()"
      ]
    },
    {
      "cell_type": "code",
      "execution_count": 5,
      "metadata": {
        "id": "CzDSFiOT1XQH"
      },
      "outputs": [],
      "source": [
        "# Normalizing the images\n",
        "\n",
        "X_train = X_train/255\n",
        "X_test = X_test/255"
      ]
    },
    {
      "cell_type": "code",
      "execution_count": 6,
      "metadata": {
        "id": "SjbxvkAt2Iyo"
      },
      "outputs": [],
      "source": [
        "# Building the model\n",
        "\n",
        "model = Sequential([\n",
        "                  \n",
        "    #flattening the images\n",
        "    Flatten(input_shape=(28,28)),\n",
        "\n",
        "    #adding first hidden layer\n",
        "    Dense(256, activation='relu'),\n",
        "\n",
        "    #adding second hidden layer\n",
        "    Dense(128, activation='relu'),\n",
        "\n",
        "    #adding third hidden layer\n",
        "    Dense(64, activation='relu'),\n",
        "\n",
        "    #adding output layer\n",
        "    Dense(10, activation='softmax')\n",
        "])"
      ]
    },
    {
      "cell_type": "code",
      "execution_count": 7,
      "metadata": {
        "colab": {
          "base_uri": "https://localhost:8080/"
        },
        "id": "2Vinm9GT2cZO",
        "outputId": "4169f370-5f10-4062-b512-5af5dca40c65"
      },
      "outputs": [
        {
          "name": "stdout",
          "output_type": "stream",
          "text": [
            "Epoch 1/10\n",
            "1875/1875 [==============================] - 7s 2ms/step - loss: 0.4890 - accuracy: 0.8227\n",
            "Epoch 2/10\n",
            "1875/1875 [==============================] - 5s 2ms/step - loss: 0.3642 - accuracy: 0.8663\n",
            "Epoch 3/10\n",
            "1875/1875 [==============================] - 5s 2ms/step - loss: 0.3284 - accuracy: 0.8782\n",
            "Epoch 4/10\n",
            "1875/1875 [==============================] - 5s 2ms/step - loss: 0.3046 - accuracy: 0.8860\n",
            "Epoch 5/10\n",
            "1875/1875 [==============================] - 4s 2ms/step - loss: 0.2872 - accuracy: 0.8923\n",
            "Epoch 6/10\n",
            "1875/1875 [==============================] - 4s 2ms/step - loss: 0.2743 - accuracy: 0.8988\n",
            "Epoch 7/10\n",
            "1875/1875 [==============================] - 5s 2ms/step - loss: 0.2619 - accuracy: 0.9030\n",
            "Epoch 8/10\n",
            "1875/1875 [==============================] - 5s 2ms/step - loss: 0.2490 - accuracy: 0.9062\n",
            "Epoch 9/10\n",
            "1875/1875 [==============================] - 5s 2ms/step - loss: 0.2406 - accuracy: 0.9087\n",
            "Epoch 10/10\n",
            "1875/1875 [==============================] - 5s 2ms/step - loss: 0.2321 - accuracy: 0.9123\n"
          ]
        },
        {
          "data": {
            "text/plain": [
              "<keras.callbacks.History at 0x7fb120143390>"
            ]
          },
          "execution_count": 7,
          "metadata": {},
          "output_type": "execute_result"
        }
      ],
      "source": [
        "# Compiling the model\n",
        "\n",
        "model.compile(loss='sparse_categorical_crossentropy',optimizer='adam',metrics=['accuracy'])\n",
        "\n",
        "#fitting the model\n",
        "\n",
        "model.fit(X_train, y_train, epochs = 10)"
      ]
    },
    {
      "cell_type": "code",
      "execution_count": 8,
      "metadata": {
        "colab": {
          "base_uri": "https://localhost:8080/"
        },
        "id": "uSSseT0Y5pTO",
        "outputId": "0c7d4903-1765-4e48-f515-826c90c442bc"
      },
      "outputs": [
        {
          "name": "stdout",
          "output_type": "stream",
          "text": [
            "313/313 [==============================] - 1s 2ms/step - loss: 0.3350 - accuracy: 0.8864\n"
          ]
        },
        {
          "data": {
            "text/plain": [
              "[0.3349672257900238, 0.8863999843597412]"
            ]
          },
          "execution_count": 8,
          "metadata": {},
          "output_type": "execute_result"
        }
      ],
      "source": [
        "# Evaluating the model\n",
        "\n",
        "model.evaluate(X_test,y_test)"
      ]
    },
    {
      "cell_type": "code",
      "execution_count": 9,
      "metadata": {
        "colab": {
          "base_uri": "https://localhost:8080/",
          "height": 35
        },
        "id": "-L0PWVAr6cXF",
        "outputId": "b0c46330-3d36-40d6-9f9b-2cca2264139b"
      },
      "outputs": [
        {
          "data": {
            "application/vnd.google.colaboratory.intrinsic+json": {
              "type": "string"
            },
            "text/plain": [
              "'\\nNow lets tune the following hyperparameter in model -\\n\\n1. Number of hidden layers\\n2. Number of neurons in each hidden layers\\n3. Learning rate\\n4. Activation Function\\n'"
            ]
          },
          "execution_count": 9,
          "metadata": {},
          "output_type": "execute_result"
        }
      ],
      "source": [
        "'''\n",
        "Now lets tune the following hyperparameter in model -\n",
        "\n",
        "1. Number of hidden layers\n",
        "2. Number of neurons in each hidden layers\n",
        "3. Learning rate\n",
        "4. Activation Function\n",
        "'''\n"
      ]
    },
    {
      "cell_type": "code",
      "execution_count": 10,
      "metadata": {
        "colab": {
          "base_uri": "https://localhost:8080/"
        },
        "id": "W3v0IGBZ7owj",
        "outputId": "9634c6cd-454f-4877-8733-5da113131dd6"
      },
      "outputs": [
        {
          "name": "stdout",
          "output_type": "stream",
          "text": [
            "Looking in indexes: https://pypi.org/simple, https://us-python.pkg.dev/colab-wheels/public/simple/\n",
            "Collecting keras-tuner\n",
            "  Downloading keras_tuner-1.1.3-py3-none-any.whl (135 kB)\n",
            "\u001b[K     |████████████████████████████████| 135 kB 5.1 MB/s \n",
            "\u001b[?25hRequirement already satisfied: tensorboard in /usr/local/lib/python3.7/dist-packages (from keras-tuner) (2.9.1)\n",
            "Collecting kt-legacy\n",
            "  Downloading kt_legacy-1.0.4-py3-none-any.whl (9.6 kB)\n",
            "Requirement already satisfied: requests in /usr/local/lib/python3.7/dist-packages (from keras-tuner) (2.23.0)\n",
            "Requirement already satisfied: ipython in /usr/local/lib/python3.7/dist-packages (from keras-tuner) (7.9.0)\n",
            "Requirement already satisfied: packaging in /usr/local/lib/python3.7/dist-packages (from keras-tuner) (21.3)\n",
            "Requirement already satisfied: numpy in /usr/local/lib/python3.7/dist-packages (from keras-tuner) (1.21.6)\n",
            "Collecting jedi>=0.10\n",
            "  Downloading jedi-0.18.2-py2.py3-none-any.whl (1.6 MB)\n",
            "\u001b[K     |████████████████████████████████| 1.6 MB 44.1 MB/s \n",
            "\u001b[?25hRequirement already satisfied: prompt-toolkit<2.1.0,>=2.0.0 in /usr/local/lib/python3.7/dist-packages (from ipython->keras-tuner) (2.0.10)\n",
            "Requirement already satisfied: backcall in /usr/local/lib/python3.7/dist-packages (from ipython->keras-tuner) (0.2.0)\n",
            "Requirement already satisfied: traitlets>=4.2 in /usr/local/lib/python3.7/dist-packages (from ipython->keras-tuner) (5.1.1)\n",
            "Requirement already satisfied: setuptools>=18.5 in /usr/local/lib/python3.7/dist-packages (from ipython->keras-tuner) (57.4.0)\n",
            "Requirement already satisfied: decorator in /usr/local/lib/python3.7/dist-packages (from ipython->keras-tuner) (4.4.2)\n",
            "Requirement already satisfied: pygments in /usr/local/lib/python3.7/dist-packages (from ipython->keras-tuner) (2.6.1)\n",
            "Requirement already satisfied: pexpect in /usr/local/lib/python3.7/dist-packages (from ipython->keras-tuner) (4.8.0)\n",
            "Requirement already satisfied: pickleshare in /usr/local/lib/python3.7/dist-packages (from ipython->keras-tuner) (0.7.5)\n",
            "Requirement already satisfied: parso<0.9.0,>=0.8.0 in /usr/local/lib/python3.7/dist-packages (from jedi>=0.10->ipython->keras-tuner) (0.8.3)\n",
            "Requirement already satisfied: six>=1.9.0 in /usr/local/lib/python3.7/dist-packages (from prompt-toolkit<2.1.0,>=2.0.0->ipython->keras-tuner) (1.15.0)\n",
            "Requirement already satisfied: wcwidth in /usr/local/lib/python3.7/dist-packages (from prompt-toolkit<2.1.0,>=2.0.0->ipython->keras-tuner) (0.2.5)\n",
            "Requirement already satisfied: pyparsing!=3.0.5,>=2.0.2 in /usr/local/lib/python3.7/dist-packages (from packaging->keras-tuner) (3.0.9)\n",
            "Requirement already satisfied: ptyprocess>=0.5 in /usr/local/lib/python3.7/dist-packages (from pexpect->ipython->keras-tuner) (0.7.0)\n",
            "Requirement already satisfied: chardet<4,>=3.0.2 in /usr/local/lib/python3.7/dist-packages (from requests->keras-tuner) (3.0.4)\n",
            "Requirement already satisfied: idna<3,>=2.5 in /usr/local/lib/python3.7/dist-packages (from requests->keras-tuner) (2.10)\n",
            "Requirement already satisfied: certifi>=2017.4.17 in /usr/local/lib/python3.7/dist-packages (from requests->keras-tuner) (2022.9.24)\n",
            "Requirement already satisfied: urllib3!=1.25.0,!=1.25.1,<1.26,>=1.21.1 in /usr/local/lib/python3.7/dist-packages (from requests->keras-tuner) (1.24.3)\n",
            "Requirement already satisfied: tensorboard-data-server<0.7.0,>=0.6.0 in /usr/local/lib/python3.7/dist-packages (from tensorboard->keras-tuner) (0.6.1)\n",
            "Requirement already satisfied: wheel>=0.26 in /usr/local/lib/python3.7/dist-packages (from tensorboard->keras-tuner) (0.38.4)\n",
            "Requirement already satisfied: absl-py>=0.4 in /usr/local/lib/python3.7/dist-packages (from tensorboard->keras-tuner) (1.3.0)\n",
            "Requirement already satisfied: werkzeug>=1.0.1 in /usr/local/lib/python3.7/dist-packages (from tensorboard->keras-tuner) (1.0.1)\n",
            "Requirement already satisfied: tensorboard-plugin-wit>=1.6.0 in /usr/local/lib/python3.7/dist-packages (from tensorboard->keras-tuner) (1.8.1)\n",
            "Requirement already satisfied: google-auth<3,>=1.6.3 in /usr/local/lib/python3.7/dist-packages (from tensorboard->keras-tuner) (2.14.1)\n",
            "Requirement already satisfied: protobuf<3.20,>=3.9.2 in /usr/local/lib/python3.7/dist-packages (from tensorboard->keras-tuner) (3.19.6)\n",
            "Requirement already satisfied: grpcio>=1.24.3 in /usr/local/lib/python3.7/dist-packages (from tensorboard->keras-tuner) (1.50.0)\n",
            "Requirement already satisfied: markdown>=2.6.8 in /usr/local/lib/python3.7/dist-packages (from tensorboard->keras-tuner) (3.4.1)\n",
            "Requirement already satisfied: google-auth-oauthlib<0.5,>=0.4.1 in /usr/local/lib/python3.7/dist-packages (from tensorboard->keras-tuner) (0.4.6)\n",
            "Requirement already satisfied: pyasn1-modules>=0.2.1 in /usr/local/lib/python3.7/dist-packages (from google-auth<3,>=1.6.3->tensorboard->keras-tuner) (0.2.8)\n",
            "Requirement already satisfied: rsa<5,>=3.1.4 in /usr/local/lib/python3.7/dist-packages (from google-auth<3,>=1.6.3->tensorboard->keras-tuner) (4.9)\n",
            "Requirement already satisfied: cachetools<6.0,>=2.0.0 in /usr/local/lib/python3.7/dist-packages (from google-auth<3,>=1.6.3->tensorboard->keras-tuner) (5.2.0)\n",
            "Requirement already satisfied: requests-oauthlib>=0.7.0 in /usr/local/lib/python3.7/dist-packages (from google-auth-oauthlib<0.5,>=0.4.1->tensorboard->keras-tuner) (1.3.1)\n",
            "Requirement already satisfied: importlib-metadata>=4.4 in /usr/local/lib/python3.7/dist-packages (from markdown>=2.6.8->tensorboard->keras-tuner) (4.13.0)\n",
            "Requirement already satisfied: zipp>=0.5 in /usr/local/lib/python3.7/dist-packages (from importlib-metadata>=4.4->markdown>=2.6.8->tensorboard->keras-tuner) (3.10.0)\n",
            "Requirement already satisfied: typing-extensions>=3.6.4 in /usr/local/lib/python3.7/dist-packages (from importlib-metadata>=4.4->markdown>=2.6.8->tensorboard->keras-tuner) (4.1.1)\n",
            "Requirement already satisfied: pyasn1<0.5.0,>=0.4.6 in /usr/local/lib/python3.7/dist-packages (from pyasn1-modules>=0.2.1->google-auth<3,>=1.6.3->tensorboard->keras-tuner) (0.4.8)\n",
            "Requirement already satisfied: oauthlib>=3.0.0 in /usr/local/lib/python3.7/dist-packages (from requests-oauthlib>=0.7.0->google-auth-oauthlib<0.5,>=0.4.1->tensorboard->keras-tuner) (3.2.2)\n",
            "Installing collected packages: jedi, kt-legacy, keras-tuner\n",
            "Successfully installed jedi-0.18.2 keras-tuner-1.1.3 kt-legacy-1.0.4\n"
          ]
        }
      ],
      "source": [
        "# Use this command to install Keras tuner\n",
        "\n",
        "! pip install keras-tuner"
      ]
    },
    {
      "cell_type": "code",
      "execution_count": 11,
      "metadata": {
        "id": "Pibqg31g94VU"
      },
      "outputs": [],
      "source": [
        "# Installing the required libraries\n",
        "\n",
        "from tensorflow import keras\n",
        "from keras_tuner import RandomSearch"
      ]
    },
    {
      "cell_type": "code",
      "execution_count": 12,
      "metadata": {
        "id": "DiwUj5Vn-GDm"
      },
      "outputs": [],
      "source": [
        "# Defining function to biuld the model\n",
        "\n",
        "def build_model(hp):          # hp means hyper parameters\n",
        "    model=Sequential()\n",
        "    model.add(Flatten(input_shape = (28,28)))\n",
        "\n",
        "    # Providing range for number of neurons in a hidden layer\n",
        "    model.add(Dense(units = hp.Int('num_of_neurons', min_value = 32, max_value = 512, step = 32),\n",
        "                                    activation ='relu'))\n",
        "    \n",
        "    # Output layer\n",
        "    model.add(Dense(10, activation='softmax'))\n",
        "\n",
        "    # Compiling the model\n",
        "    model.compile(optimizer = keras.optimizers.Adam(hp.Choice('learning_rate',values = [1e-2, 1e-3, 1e-4])),\n",
        "                  loss = 'sparse_categorical_crossentropy', metrics = ['accuracy'])\n",
        "    return model"
      ]
    },
    {
      "cell_type": "code",
      "execution_count": 13,
      "metadata": {
        "id": "RKe-xv3sBP24"
      },
      "outputs": [],
      "source": [
        "#feeding the model and parameters to Random Search\n",
        "\n",
        "tuner = RandomSearch(build_model,\n",
        "                    objective = 'val_accuracy',\n",
        "                    max_trials = 5,\n",
        "                    executions_per_trial = 3,\n",
        "                    directory = 'tuner1',\n",
        "                    project_name = 'Clothing')\n",
        "\n",
        "# So this will run for (5*3)= 15 times with 10 epochs"
      ]
    },
    {
      "cell_type": "code",
      "execution_count": 14,
      "metadata": {
        "colab": {
          "base_uri": "https://localhost:8080/"
        },
        "id": "j5HRgzelBP5k",
        "outputId": "d2f64aed-3cd8-4018-a604-202adef7910e"
      },
      "outputs": [
        {
          "name": "stdout",
          "output_type": "stream",
          "text": [
            "Search space summary\n",
            "Default search space size: 2\n",
            "num_of_neurons (Int)\n",
            "{'default': None, 'conditions': [], 'min_value': 32, 'max_value': 512, 'step': 32, 'sampling': None}\n",
            "learning_rate (Choice)\n",
            "{'default': 0.01, 'conditions': [], 'values': [0.01, 0.001, 0.0001], 'ordered': True}\n"
          ]
        }
      ],
      "source": [
        "# This tells us how many hyperparameter we are tuning\n",
        "# in our case it's 2 = neurons, learning rate\n",
        "\n",
        "tuner.search_space_summary()"
      ]
    },
    {
      "cell_type": "code",
      "execution_count": 15,
      "metadata": {
        "colab": {
          "base_uri": "https://localhost:8080/"
        },
        "id": "joKsIe0mBP8c",
        "outputId": "a5c00cf8-5281-4bac-b26f-19851b5754a2"
      },
      "outputs": [
        {
          "name": "stdout",
          "output_type": "stream",
          "text": [
            "Trial 5 Complete [00h 03m 09s]\n",
            "val_accuracy: 0.8535999854405721\n",
            "\n",
            "Best val_accuracy So Far: 0.8853333195050558\n",
            "Total elapsed time: 00h 17m 16s\n"
          ]
        }
      ],
      "source": [
        "# Fitting the tuner on train dataset\n",
        "\n",
        "tuner.search(X_train, y_train, epochs = 10, validation_data = (X_test, y_test))"
      ]
    },
    {
      "cell_type": "code",
      "execution_count": 16,
      "metadata": {
        "colab": {
          "base_uri": "https://localhost:8080/"
        },
        "id": "_wulovYeBP_E",
        "outputId": "747d54b2-d1eb-4315-a909-5ba126100dc1"
      },
      "outputs": [
        {
          "name": "stdout",
          "output_type": "stream",
          "text": [
            "Results summary\n",
            "Results in tuner1/Clothing\n",
            "Showing 10 best trials\n",
            "<keras_tuner.engine.objective.Objective object at 0x7fb09a1ce890>\n",
            "Trial summary\n",
            "Hyperparameters:\n",
            "num_of_neurons: 160\n",
            "learning_rate: 0.001\n",
            "Score: 0.8853333195050558\n",
            "Trial summary\n",
            "Hyperparameters:\n",
            "num_of_neurons: 416\n",
            "learning_rate: 0.01\n",
            "Score: 0.8545999924341837\n",
            "Trial summary\n",
            "Hyperparameters:\n",
            "num_of_neurons: 128\n",
            "learning_rate: 0.01\n",
            "Score: 0.8535999854405721\n",
            "Trial summary\n",
            "Hyperparameters:\n",
            "num_of_neurons: 320\n",
            "learning_rate: 0.01\n",
            "Score: 0.8535999854405721\n",
            "Trial summary\n",
            "Hyperparameters:\n",
            "num_of_neurons: 96\n",
            "learning_rate: 0.01\n",
            "Score: 0.8533000151316324\n"
          ]
        }
      ],
      "source": [
        "# We can see the hyperparameters which is been selected by KerasTuner\n",
        "\n",
        "tuner.results_summary()"
      ]
    },
    {
      "cell_type": "code",
      "execution_count": 17,
      "metadata": {
        "colab": {
          "base_uri": "https://localhost:8080/",
          "height": 35
        },
        "id": "NXwz6nfeGyx5",
        "outputId": "7a854111-2224-4822-b84e-fa9fb41a1891"
      },
      "outputs": [
        {
          "data": {
            "application/vnd.google.colaboratory.intrinsic+json": {
              "type": "string"
            },
            "text/plain": [
              "'\\nNow lets tune some more parameters - \\n\\nNow we will provide the range of the number of the layers to be \\nused in the model which is between 2 to 20\\n'"
            ]
          },
          "execution_count": 17,
          "metadata": {},
          "output_type": "execute_result"
        }
      ],
      "source": [
        "'''\n",
        "Now lets tune some more parameters - \n",
        "\n",
        "Now we will provide the range of the number of the layers to be \n",
        "used in the model which is between 2 to 20\n",
        "'''"
      ]
    },
    {
      "cell_type": "code",
      "execution_count": 18,
      "metadata": {
        "id": "xeiwtT1nHk_L"
      },
      "outputs": [],
      "source": [
        "def build_model(hp):                 # Hp means hyper parameters\n",
        "    model=Sequential()\n",
        "    model.add(Flatten(input_shape = (28,28)))\n",
        "\n",
        "    # Providing the range for hidden layers  \n",
        "    for i in range(hp.Int('num_of_layers', 2, 20)):         \n",
        "        # Providing range for number of neurons in hidden layers\n",
        "        model.add(Dense(units = hp.Int('num_of_neurons'+ str(i), min_value=32, max_value = 512, step = 32),\n",
        "                                    activation = 'relu'))\n",
        "        \n",
        "    model.add(Dense(10, activation = 'softmax'))    # Output layer\n",
        "    \n",
        "    #  Compiling the model\n",
        "    model.compile(optimizer=keras.optimizers.Adam(hp.Choice('learning_rate', values=[1e-2, 1e-3, 1e-4])),   #tuning learning rate\n",
        "                  loss='sparse_categorical_crossentropy', metrics=['accuracy'])\n",
        "    return model"
      ]
    },
    {
      "cell_type": "code",
      "execution_count": 19,
      "metadata": {
        "id": "KjYO2rCWIm_x"
      },
      "outputs": [],
      "source": [
        "# Feeding the model and parameters to Random Search\n",
        "\n",
        "tuner=RandomSearch(build_model,\n",
        "                  objective = 'val_accuracy',\n",
        "                  max_trials = 5,\n",
        "                  executions_per_trial = 3,\n",
        "                  directory = 'project',\n",
        "                  project_name = 'Clothing')"
      ]
    },
    {
      "cell_type": "code",
      "execution_count": 20,
      "metadata": {
        "colab": {
          "base_uri": "https://localhost:8080/"
        },
        "id": "ueNHN7byI5w_",
        "outputId": "9ae917c0-e25a-4ab6-f5a4-fdec71fcc3eb"
      },
      "outputs": [
        {
          "name": "stdout",
          "output_type": "stream",
          "text": [
            "Search space summary\n",
            "Default search space size: 4\n",
            "num_of_layers (Int)\n",
            "{'default': None, 'conditions': [], 'min_value': 2, 'max_value': 20, 'step': 1, 'sampling': None}\n",
            "num_of_neurons0 (Int)\n",
            "{'default': None, 'conditions': [], 'min_value': 32, 'max_value': 512, 'step': 32, 'sampling': None}\n",
            "num_of_neurons1 (Int)\n",
            "{'default': None, 'conditions': [], 'min_value': 32, 'max_value': 512, 'step': 32, 'sampling': None}\n",
            "learning_rate (Choice)\n",
            "{'default': 0.01, 'conditions': [], 'values': [0.01, 0.001, 0.0001], 'ordered': True}\n"
          ]
        }
      ],
      "source": [
        "# Tells us how many hyperparameters we are tuning\n",
        "# in our case it's 3 = layers, neurons, learning rate\n",
        "\n",
        "tuner.search_space_summary()"
      ]
    },
    {
      "cell_type": "code",
      "execution_count": 21,
      "metadata": {
        "colab": {
          "base_uri": "https://localhost:8080/"
        },
        "id": "JI-i9WK9I6XU",
        "outputId": "a8cdc364-8706-4813-b25a-112f24912fa4"
      },
      "outputs": [
        {
          "name": "stdout",
          "output_type": "stream",
          "text": [
            "Trial 5 Complete [00h 07m 09s]\n",
            "val_accuracy: 0.878333330154419\n",
            "\n",
            "Best val_accuracy So Far: 0.878333330154419\n",
            "Total elapsed time: 00h 25m 29s\n"
          ]
        }
      ],
      "source": [
        "# Fitting the tuner on train dataset\n",
        "\n",
        "tuner.search(X_train, y_train, epochs = 10, validation_data = (X_test, y_test))"
      ]
    },
    {
      "cell_type": "code",
      "execution_count": 22,
      "metadata": {
        "colab": {
          "base_uri": "https://localhost:8080/"
        },
        "id": "HsIyQPmzI6aF",
        "outputId": "b2869bca-4f97-41b0-eecc-0986756d1939"
      },
      "outputs": [
        {
          "name": "stdout",
          "output_type": "stream",
          "text": [
            "Results summary\n",
            "Results in project/Clothing\n",
            "Showing 10 best trials\n",
            "<keras_tuner.engine.objective.Objective object at 0x7fb128c45790>\n",
            "Trial summary\n",
            "Hyperparameters:\n",
            "num_of_layers: 15\n",
            "num_of_neurons0: 192\n",
            "num_of_neurons1: 384\n",
            "learning_rate: 0.0001\n",
            "num_of_neurons2: 224\n",
            "num_of_neurons3: 352\n",
            "num_of_neurons4: 224\n",
            "num_of_neurons5: 160\n",
            "num_of_neurons6: 32\n",
            "num_of_neurons7: 448\n",
            "num_of_neurons8: 128\n",
            "num_of_neurons9: 320\n",
            "num_of_neurons10: 128\n",
            "num_of_neurons11: 224\n",
            "num_of_neurons12: 384\n",
            "num_of_neurons13: 192\n",
            "num_of_neurons14: 128\n",
            "num_of_neurons15: 224\n",
            "Score: 0.878333330154419\n",
            "Trial summary\n",
            "Hyperparameters:\n",
            "num_of_layers: 13\n",
            "num_of_neurons0: 224\n",
            "num_of_neurons1: 288\n",
            "learning_rate: 0.001\n",
            "num_of_neurons2: 32\n",
            "num_of_neurons3: 32\n",
            "num_of_neurons4: 32\n",
            "num_of_neurons5: 32\n",
            "num_of_neurons6: 32\n",
            "num_of_neurons7: 32\n",
            "num_of_neurons8: 32\n",
            "num_of_neurons9: 32\n",
            "num_of_neurons10: 32\n",
            "num_of_neurons11: 32\n",
            "num_of_neurons12: 32\n",
            "Score: 0.8779333432515463\n",
            "Trial summary\n",
            "Hyperparameters:\n",
            "num_of_layers: 9\n",
            "num_of_neurons0: 160\n",
            "num_of_neurons1: 512\n",
            "learning_rate: 0.001\n",
            "num_of_neurons2: 416\n",
            "num_of_neurons3: 320\n",
            "num_of_neurons4: 192\n",
            "num_of_neurons5: 352\n",
            "num_of_neurons6: 448\n",
            "num_of_neurons7: 256\n",
            "num_of_neurons8: 384\n",
            "num_of_neurons9: 192\n",
            "num_of_neurons10: 128\n",
            "num_of_neurons11: 96\n",
            "num_of_neurons12: 448\n",
            "Score: 0.8735666672388712\n",
            "Trial summary\n",
            "Hyperparameters:\n",
            "num_of_layers: 9\n",
            "num_of_neurons0: 96\n",
            "num_of_neurons1: 384\n",
            "learning_rate: 0.01\n",
            "num_of_neurons2: 64\n",
            "num_of_neurons3: 448\n",
            "num_of_neurons4: 416\n",
            "num_of_neurons5: 320\n",
            "num_of_neurons6: 32\n",
            "num_of_neurons7: 96\n",
            "num_of_neurons8: 288\n",
            "num_of_neurons9: 224\n",
            "num_of_neurons10: 320\n",
            "num_of_neurons11: 160\n",
            "num_of_neurons12: 224\n",
            "Score: 0.2578333268562953\n",
            "Trial summary\n",
            "Hyperparameters:\n",
            "num_of_layers: 16\n",
            "num_of_neurons0: 288\n",
            "num_of_neurons1: 96\n",
            "learning_rate: 0.01\n",
            "num_of_neurons2: 160\n",
            "num_of_neurons3: 160\n",
            "num_of_neurons4: 384\n",
            "num_of_neurons5: 96\n",
            "num_of_neurons6: 320\n",
            "num_of_neurons7: 288\n",
            "num_of_neurons8: 448\n",
            "num_of_neurons9: 64\n",
            "num_of_neurons10: 160\n",
            "num_of_neurons11: 448\n",
            "num_of_neurons12: 480\n",
            "num_of_neurons13: 32\n",
            "num_of_neurons14: 32\n",
            "num_of_neurons15: 32\n",
            "Score: 0.10000000149011612\n"
          ]
        }
      ],
      "source": [
        "# We can see the hyperparameters which is been selected by KerasTuner\n",
        "\n",
        "tuner.results_summary()"
      ]
    }
  ],
  "metadata": {
    "accelerator": "GPU",
    "colab": {
      "machine_shape": "hm",
      "provenance": []
    },
    "kernelspec": {
      "display_name": "Python 3.10.8 64-bit (microsoft store)",
      "language": "python",
      "name": "python3"
    },
    "language_info": {
      "codemirror_mode": {
        "name": "ipython",
        "version": 3
      },
      "file_extension": ".py",
      "mimetype": "text/x-python",
      "name": "python",
      "nbconvert_exporter": "python",
      "pygments_lexer": "ipython3",
      "version": "3.10.8"
    },
    "vscode": {
      "interpreter": {
        "hash": "66eba28a75a64fbe1a9b9c30d27f7c856726c51cbbef86297708eae4ce175db0"
      }
    }
  },
  "nbformat": 4,
  "nbformat_minor": 0
}
